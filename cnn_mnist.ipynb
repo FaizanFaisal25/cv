{
 "cells": [
  {
   "cell_type": "code",
   "execution_count": 1,
   "metadata": {},
   "outputs": [],
   "source": [
    "from keras.models import Sequential\n",
    "from keras.layers.core import Dense, Dropout, Activation, Flatten\n",
    "from keras.layers.convolutional import Convolution2D, MaxPooling2D\n",
    "import numpy as np\n",
    "import pandas as pd"
   ]
  },
  {
   "cell_type": "code",
   "execution_count": 2,
   "metadata": {},
   "outputs": [],
   "source": [
    "train = pd.read_csv(\"../mnist_train.csv\")\n",
    "test = pd.read_csv(\"../mnist_test.csv\")"
   ]
  },
  {
   "cell_type": "code",
   "execution_count": 3,
   "metadata": {},
   "outputs": [],
   "source": [
    "data = train.append(test, ignore_index=True)"
   ]
  },
  {
   "cell_type": "code",
   "execution_count": 4,
   "metadata": {},
   "outputs": [],
   "source": [
    "df_x = data.iloc[:,1:].values.reshape(len(data), 28,28,1)\n",
    "y = data.iloc[:, 0].values"
   ]
  },
  {
   "cell_type": "code",
   "execution_count": 5,
   "metadata": {},
   "outputs": [],
   "source": [
    "import keras"
   ]
  },
  {
   "cell_type": "code",
   "execution_count": 6,
   "metadata": {},
   "outputs": [],
   "source": [
    "df_y = keras.utils.to_categorical(y, num_classes=len(np.unique(y)))"
   ]
  },
  {
   "cell_type": "code",
   "execution_count": 7,
   "metadata": {},
   "outputs": [],
   "source": [
    "from sklearn.model_selection import train_test_split"
   ]
  },
  {
   "cell_type": "code",
   "execution_count": 8,
   "metadata": {},
   "outputs": [],
   "source": [
    "X_train, X_test, y_train, y_test = train_test_split(df_x, df_y, test_size=0.2, random_state=4)"
   ]
  },
  {
   "cell_type": "code",
   "execution_count": 9,
   "metadata": {},
   "outputs": [],
   "source": [
    "model = Sequential()\n",
    " \n",
    "# conv layer (3x3 filters + relu to avoid re normalization)\n",
    "# max pooling 2x2\n",
    "# flattened node\n",
    "# 100 nodes (hidden layer)\n",
    "# 10 nodes (output)"
   ]
  },
  {
   "cell_type": "code",
   "execution_count": 10,
   "metadata": {},
   "outputs": [],
   "source": [
    "model.add(Convolution2D(\n",
    "    32, \n",
    "    3, \n",
    "    data_format='channels_last',\n",
    "    activation='relu',\n",
    "    input_shape=(28,28,1))\n",
    ")"
   ]
  },
  {
   "cell_type": "code",
   "execution_count": 11,
   "metadata": {},
   "outputs": [],
   "source": [
    "model.add(\n",
    "    MaxPooling2D(pool_size=(2,2))\n",
    ")"
   ]
  },
  {
   "cell_type": "code",
   "execution_count": 12,
   "metadata": {},
   "outputs": [],
   "source": [
    "model.add(\n",
    "    Flatten()\n",
    ")"
   ]
  },
  {
   "cell_type": "code",
   "execution_count": 13,
   "metadata": {},
   "outputs": [],
   "source": [
    "model.add(\n",
    "    Dense(500, activation='relu')\n",
    ")"
   ]
  },
  {
   "cell_type": "code",
   "execution_count": 14,
   "metadata": {},
   "outputs": [],
   "source": [
    "model.add(\n",
    "    Dropout(0.3)\n",
    ")"
   ]
  },
  {
   "cell_type": "code",
   "execution_count": 15,
   "metadata": {},
   "outputs": [],
   "source": [
    "model.add(\n",
    "    Dense(100, activation='sigmoid')\n",
    ")"
   ]
  },
  {
   "cell_type": "code",
   "execution_count": 16,
   "metadata": {},
   "outputs": [],
   "source": [
    "model.add(\n",
    "    Dense(10, activation='softmax')\n",
    ")"
   ]
  },
  {
   "cell_type": "code",
   "execution_count": 17,
   "metadata": {},
   "outputs": [],
   "source": [
    "model.compile(loss=\"categorical_crossentropy\", optimizer='adadelta', metrics = ['accuracy'])"
   ]
  },
  {
   "cell_type": "code",
   "execution_count": 18,
   "metadata": {},
   "outputs": [
    {
     "name": "stdout",
     "output_type": "stream",
     "text": [
      "Model: \"sequential\"\n",
      "_________________________________________________________________\n",
      " Layer (type)                Output Shape              Param #   \n",
      "=================================================================\n",
      " conv2d (Conv2D)             (None, 26, 26, 32)        320       \n",
      "                                                                 \n",
      " max_pooling2d (MaxPooling2D  (None, 13, 13, 32)       0         \n",
      " )                                                               \n",
      "                                                                 \n",
      " flatten (Flatten)           (None, 5408)              0         \n",
      "                                                                 \n",
      " dense (Dense)               (None, 500)               2704500   \n",
      "                                                                 \n",
      " dropout (Dropout)           (None, 500)               0         \n",
      "                                                                 \n",
      " dense_1 (Dense)             (None, 100)               50100     \n",
      "                                                                 \n",
      " dense_2 (Dense)             (None, 10)                1010      \n",
      "                                                                 \n",
      "=================================================================\n",
      "Total params: 2,755,930\n",
      "Trainable params: 2,755,930\n",
      "Non-trainable params: 0\n",
      "_________________________________________________________________\n"
     ]
    }
   ],
   "source": [
    "model.summary()"
   ]
  },
  {
   "cell_type": "code",
   "execution_count": 19,
   "metadata": {},
   "outputs": [
    {
     "name": "stdout",
     "output_type": "stream",
     "text": [
      "Epoch 1/15\n",
      "1750/1750 [==============================] - 117s 66ms/step - loss: 2.1435 - accuracy: 0.2504 - val_loss: 1.6196 - val_accuracy: 0.5830\n",
      "Epoch 2/15\n",
      "1750/1750 [==============================] - 126s 72ms/step - loss: 1.6181 - accuracy: 0.5391 - val_loss: 1.1830 - val_accuracy: 0.7483\n",
      "Epoch 3/15\n",
      "1750/1750 [==============================] - 127s 72ms/step - loss: 1.3096 - accuracy: 0.6769 - val_loss: 0.9451 - val_accuracy: 0.8134\n",
      "Epoch 4/15\n",
      "1750/1750 [==============================] - 127s 73ms/step - loss: 1.1027 - accuracy: 0.7515 - val_loss: 0.7914 - val_accuracy: 0.8386\n",
      "Epoch 5/15\n",
      "1750/1750 [==============================] - 130s 74ms/step - loss: 0.9632 - accuracy: 0.7896 - val_loss: 0.6920 - val_accuracy: 0.8572\n",
      "Epoch 6/15\n",
      "1750/1750 [==============================] - 106s 61ms/step - loss: 0.8576 - accuracy: 0.8190 - val_loss: 0.6178 - val_accuracy: 0.8695\n",
      "Epoch 7/15\n",
      "1750/1750 [==============================] - 101s 58ms/step - loss: 0.7797 - accuracy: 0.8370 - val_loss: 0.5626 - val_accuracy: 0.8822\n",
      "Epoch 8/15\n",
      "1750/1750 [==============================] - 104s 59ms/step - loss: 0.7144 - accuracy: 0.8518 - val_loss: 0.5165 - val_accuracy: 0.8913\n",
      "Epoch 9/15\n",
      "1750/1750 [==============================] - 105s 60ms/step - loss: 0.6616 - accuracy: 0.8652 - val_loss: 0.4796 - val_accuracy: 0.8979\n",
      "Epoch 10/15\n",
      "1750/1750 [==============================] - 105s 60ms/step - loss: 0.6199 - accuracy: 0.8754 - val_loss: 0.4496 - val_accuracy: 0.9026\n",
      "Epoch 11/15\n",
      "1750/1750 [==============================] - 107s 61ms/step - loss: 0.5838 - accuracy: 0.8809 - val_loss: 0.4236 - val_accuracy: 0.9071\n",
      "Epoch 12/15\n",
      "1750/1750 [==============================] - 109s 62ms/step - loss: 0.5509 - accuracy: 0.8890 - val_loss: 0.4017 - val_accuracy: 0.9111\n",
      "Epoch 13/15\n",
      "1750/1750 [==============================] - 109s 62ms/step - loss: 0.5255 - accuracy: 0.8934 - val_loss: 0.3833 - val_accuracy: 0.9144\n",
      "Epoch 14/15\n",
      "1750/1750 [==============================] - 110s 63ms/step - loss: 0.5004 - accuracy: 0.8972 - val_loss: 0.3665 - val_accuracy: 0.9168\n",
      "Epoch 15/15\n",
      "1750/1750 [==============================] - 109s 62ms/step - loss: 0.4805 - accuracy: 0.9015 - val_loss: 0.3516 - val_accuracy: 0.9194\n"
     ]
    },
    {
     "data": {
      "text/plain": [
       "<keras.callbacks.History at 0x2ba87da89d0>"
      ]
     },
     "execution_count": 19,
     "metadata": {},
     "output_type": "execute_result"
    }
   ],
   "source": [
    "model.fit(X_train, y_train, validation_data=(X_test, y_test), epochs=15)"
   ]
  }
 ],
 "metadata": {
  "kernelspec": {
   "display_name": "Python 3",
   "language": "python",
   "name": "python3"
  },
  "language_info": {
   "codemirror_mode": {
    "name": "ipython",
    "version": 3
   },
   "file_extension": ".py",
   "mimetype": "text/x-python",
   "name": "python",
   "nbconvert_exporter": "python",
   "pygments_lexer": "ipython3",
   "version": "3.9.5"
  },
  "orig_nbformat": 4
 },
 "nbformat": 4,
 "nbformat_minor": 2
}
